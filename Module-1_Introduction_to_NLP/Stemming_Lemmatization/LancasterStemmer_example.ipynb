{
 "cells": [
  {
   "cell_type": "code",
   "execution_count": 2,
   "id": "071d3213",
   "metadata": {},
   "outputs": [],
   "source": [
    "from nltk.stem.lancaster import LancasterStemmer"
   ]
  },
  {
   "cell_type": "code",
   "execution_count": 18,
   "id": "f7aa1552",
   "metadata": {},
   "outputs": [
    {
     "name": "stdout",
     "output_type": "stream",
     "text": [
      "maxim\n",
      "presum\n"
     ]
    }
   ],
   "source": [
    "lst = LancasterStemmer()\n",
    "print(lst.stem('maximum'))    # Remove \"-um\" when word is intact\n",
    "print(lst.stem('presumably'))  # Don't remove \"-um\" when word is not intact"
   ]
  },
  {
   "cell_type": "code",
   "execution_count": 19,
   "id": "fdf96975",
   "metadata": {},
   "outputs": [
    {
     "name": "stdout",
     "output_type": "stream",
     "text": [
      "work\n",
      "happy\n"
     ]
    }
   ],
   "source": [
    "print(lst.stem('working'))\n",
    "print(lst.stem('happiness'))"
   ]
  },
  {
   "cell_type": "code",
   "execution_count": 20,
   "id": "476bc296",
   "metadata": {},
   "outputs": [
    {
     "name": "stdout",
     "output_type": "stream",
     "text": [
      "Help on method stem in module nltk.stem.lancaster:\n",
      "\n",
      "stem(word) method of nltk.stem.lancaster.LancasterStemmer instance\n",
      "    Stem a word using the Lancaster stemmer.\n",
      "\n"
     ]
    }
   ],
   "source": [
    "help(lst.stem)"
   ]
  },
  {
   "cell_type": "markdown",
   "id": "7a76718e",
   "metadata": {},
   "source": [
    "## Stem a list of words"
   ]
  },
  {
   "cell_type": "code",
   "execution_count": 12,
   "id": "f8d21d58",
   "metadata": {},
   "outputs": [
    {
     "name": "stdout",
     "output_type": "stream",
     "text": [
      "python => python\n",
      "pythoner => python\n",
      "pythoning => python\n",
      "pythoned => python\n",
      "pythonly => python\n"
     ]
    }
   ],
   "source": [
    "\n",
    "example_words = [\"python\",\"pythoner\",\"pythoning\",\"pythoned\",\"pythonly\"]\n",
    "\n",
    "for w in example_words:\n",
    "    print(\"{} => {}\".format(w, lst.stem(w)))"
   ]
  },
  {
   "cell_type": "code",
   "execution_count": 15,
   "id": "175ed560",
   "metadata": {},
   "outputs": [
    {
     "name": "stdout",
     "output_type": "stream",
     "text": [
      "multiply => multiply\n",
      "provision => provid\n",
      "owed => ow\n",
      "ear => ear\n",
      "saying => say\n",
      "crying => cry\n",
      "string => string\n",
      "meant => meant\n",
      "cement => cem\n",
      "kilometer => kilomet\n"
     ]
    }
   ],
   "source": [
    "example_words = ['multiply', 'provision','owed', 'ear','saying', 'crying',\\\n",
    "                 'string', 'meant', 'cement', 'kilometer' ]\n",
    "\n",
    "for w in example_words:\n",
    "    print(\"{} => {}\".format(w, lst.stem(w)))"
   ]
  },
  {
   "cell_type": "markdown",
   "id": "a5fe98ca",
   "metadata": {},
   "source": [
    "## stripping the prefix flag"
   ]
  },
  {
   "cell_type": "code",
   "execution_count": 21,
   "id": "64e21758",
   "metadata": {},
   "outputs": [
    {
     "name": "stdout",
     "output_type": "stream",
     "text": [
      "met\n"
     ]
    }
   ],
   "source": [
    "lst_pre = LancasterStemmer(strip_prefix_flag=True)\n",
    "print(lst_pre.stem('kilometer')) # Test Prefix"
   ]
  }
 ],
 "metadata": {
  "kernelspec": {
   "display_name": "Python 3 (ipykernel)",
   "language": "python",
   "name": "python3"
  },
  "language_info": {
   "codemirror_mode": {
    "name": "ipython",
    "version": 3
   },
   "file_extension": ".py",
   "mimetype": "text/x-python",
   "name": "python",
   "nbconvert_exporter": "python",
   "pygments_lexer": "ipython3",
   "version": "3.7.13"
  }
 },
 "nbformat": 4,
 "nbformat_minor": 5
}
