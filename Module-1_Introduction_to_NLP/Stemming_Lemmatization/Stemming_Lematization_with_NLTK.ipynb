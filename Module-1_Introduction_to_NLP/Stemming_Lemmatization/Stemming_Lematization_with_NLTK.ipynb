{
 "cells": [
  {
   "cell_type": "markdown",
   "id": "f21f683d",
   "metadata": {},
   "source": [
    "# Stemming and Lemmatization using NLTK\n",
    "## Index\n",
    "### 1. Download NTLK package\n",
    "### 2. Stemming  - PorterStemmer \n",
    "### 3. Lemmatization -  WordNetLemmatizer\n",
    "### 4. Stemming vs Lemmtization comparision for different words\n",
    "       - Marraige, University, Better\n",
    "       - verb with ing form \n",
    "       - adjective\n",
    "#### 5. Stemming vs Lemmatization on a sentence/corpus\n"
   ]
  },
  {
   "cell_type": "code",
   "execution_count": 1,
   "id": "e5a42bc6",
   "metadata": {},
   "outputs": [
    {
     "name": "stderr",
     "output_type": "stream",
     "text": [
      "[nltk_data] Downloading package omw-1.4 to\n",
      "[nltk_data]     C:\\Users\\JaiBrahma\\AppData\\Roaming\\nltk_data...\n",
      "[nltk_data]   Package omw-1.4 is already up-to-date!\n"
     ]
    },
    {
     "data": {
      "text/plain": [
       "True"
      ]
     },
     "execution_count": 1,
     "metadata": {},
     "output_type": "execute_result"
    }
   ],
   "source": [
    "import nltk\n",
    "nltk.download('omw-1.4')"
   ]
  },
  {
   "cell_type": "markdown",
   "id": "f11bcc7f",
   "metadata": {},
   "source": [
    "## 2. Stemming using NLTK Porter Stemmer"
   ]
  },
  {
   "cell_type": "code",
   "execution_count": 2,
   "id": "2fb1380f",
   "metadata": {},
   "outputs": [],
   "source": [
    "from nltk.stem.porter import PorterStemmer"
   ]
  },
  {
   "cell_type": "code",
   "execution_count": 3,
   "id": "d19dfd38",
   "metadata": {},
   "outputs": [
    {
     "name": "stdout",
     "output_type": "stream",
     "text": [
      "word= Marriage, stemming_form=marriag\n",
      "word= University, stemming_form=univers\n",
      "word= better, stemming_form=better\n"
     ]
    }
   ],
   "source": [
    "porter_stemmer  = PorterStemmer()\n",
    "word = 'Marriage'\n",
    "print(\"word= {}, stemming_form={}\".format(word, porter_stemmer.stem(word)))\n",
    "word = 'University'\n",
    "print(\"word= {}, stemming_form={}\".format(word, porter_stemmer.stem(word)))\n",
    "word = 'better'\n",
    "print(\"word= {}, stemming_form={}\".format(word, porter_stemmer.stem(word)))"
   ]
  },
  {
   "cell_type": "code",
   "execution_count": 4,
   "id": "b41ce251",
   "metadata": {},
   "outputs": [
    {
     "name": "stdout",
     "output_type": "stream",
     "text": [
      "Stemming for studies is studi\n",
      "Stemming for beautiful is beauti\n",
      "Stemming for awful is aw\n",
      "Stemming for tastier is tastier\n",
      "Stemming for studying is studi\n",
      "Stemming for cries is cri\n",
      "Stemming for cry is cri\n",
      "Stemming for bitter is bitter\n",
      "Stemming for studying is studi\n",
      "Stemming for walking is walk\n",
      "Stemming for enjoying is enjoy\n"
     ]
    }
   ],
   "source": [
    "porter_stemmer  = PorterStemmer()\n",
    "text = \"studies beautiful awful tastier studying cries cry bitter studying walking enjoying\"\n",
    "tokenization = nltk.word_tokenize(text)\n",
    "for w in tokenization:\n",
    "    print(\"Stemming for {} is {}\".format(w,porter_stemmer.stem(w)))  "
   ]
  },
  {
   "cell_type": "markdown",
   "id": "a365ec78",
   "metadata": {},
   "source": [
    "## 3. Lemmatization using NLTK WordNetLemmatizer"
   ]
  },
  {
   "cell_type": "code",
   "execution_count": 5,
   "id": "c1e14418",
   "metadata": {},
   "outputs": [],
   "source": [
    "# import these modules\n",
    "from nltk.stem import WordNetLemmatizer"
   ]
  },
  {
   "cell_type": "code",
   "execution_count": 6,
   "id": "bb9e9d76",
   "metadata": {},
   "outputs": [
    {
     "name": "stdout",
     "output_type": "stream",
     "text": [
      "rocks =>  rock\n",
      "studying => study\n",
      "walking => walk\n",
      "better => better\n",
      "better => good\n"
     ]
    }
   ],
   "source": [
    "lemmatizer = WordNetLemmatizer()\n",
    "  \n",
    "print(\"rocks => \", lemmatizer.lemmatize(\"rocks\"))\n",
    "print(\"studying =>\", lemmatizer.lemmatize(\"studying\", pos=\"v\"))\n",
    "print(\"walking =>\", lemmatizer.lemmatize(\"walking\", pos=\"v\"))\n",
    "print(\"better =>\", lemmatizer.lemmatize(\"better\")) \n",
    "# a denotes adjective in \"pos\"\n",
    "print(\"better =>\", lemmatizer.lemmatize(\"better\", pos =\"a\"))\n"
   ]
  },
  {
   "cell_type": "code",
   "execution_count": 7,
   "id": "42409964",
   "metadata": {},
   "outputs": [
    {
     "name": "stdout",
     "output_type": "stream",
     "text": [
      "Help on method lemmatize in module nltk.stem.wordnet:\n",
      "\n",
      "lemmatize(word: str, pos: str = 'n') -> str method of nltk.stem.wordnet.WordNetLemmatizer instance\n",
      "    Lemmatize `word` using WordNet's built-in morphy function.\n",
      "    Returns the input word unchanged if it cannot be found in WordNet.\n",
      "    \n",
      "    :param word: The input word to lemmatize.\n",
      "    :type word: str\n",
      "    :param pos: The Part Of Speech tag. Valid options are `\"n\"` for nouns,\n",
      "        `\"v\"` for verbs, `\"a\"` for adjectives, `\"r\"` for adverbs and `\"s\"`\n",
      "        for satellite adjectives.\n",
      "    :param pos: str\n",
      "    :return: The lemma of `word`, for the given `pos`.\n",
      "\n"
     ]
    }
   ],
   "source": [
    "help(lemmatizer.lemmatize)"
   ]
  },
  {
   "cell_type": "markdown",
   "id": "4648a3ef",
   "metadata": {},
   "source": [
    "#### lammatizer.lemmatize takes two arguements\n",
    "    - word and its POS (parts-of-speech)\n",
    "    - if no POS is given, it will consider word as Noun"
   ]
  },
  {
   "cell_type": "code",
   "execution_count": 8,
   "id": "3c4faa4d",
   "metadata": {},
   "outputs": [
    {
     "name": "stdout",
     "output_type": "stream",
     "text": [
      "going => going\n"
     ]
    }
   ],
   "source": [
    "word = \"going\"\n",
    "print(\"{} => {}\".format(word, lemmatizer.lemmatize(word)))"
   ]
  },
  {
   "cell_type": "code",
   "execution_count": 9,
   "id": "c1167a15",
   "metadata": {},
   "outputs": [
    {
     "name": "stdout",
     "output_type": "stream",
     "text": [
      "going => go\n",
      "went => go\n",
      "gone => go\n"
     ]
    }
   ],
   "source": [
    "word = \"going\"\n",
    "print(\"{} => {}\".format(word, lemmatizer.lemmatize(word, pos=\"v\")))\n",
    "word = \"went\"\n",
    "print(\"{} => {}\".format(word, lemmatizer.lemmatize(word, pos=\"v\")))\n",
    "word = \"gone\"\n",
    "print(\"{} => {}\".format(word, lemmatizer.lemmatize(word, pos=\"v\")))"
   ]
  },
  {
   "cell_type": "markdown",
   "id": "6b6af069",
   "metadata": {},
   "source": [
    "### 4. Stemming vs Lemmtization comparision for different words"
   ]
  },
  {
   "cell_type": "markdown",
   "id": "b9d823a3",
   "metadata": {},
   "source": [
    "#### 4.1 verb list with -ing forms"
   ]
  },
  {
   "cell_type": "code",
   "execution_count": 10,
   "id": "31f6d408",
   "metadata": {},
   "outputs": [
    {
     "name": "stdout",
     "output_type": "stream",
     "text": [
      "word= Marriage, stemming_form=marriag, lemmatized_form=Marriage\n",
      "word= University, stemming_form=univers, lemmatized_form=University\n",
      "word= better, stemming_form=better, lemmatized_form=good\n"
     ]
    }
   ],
   "source": [
    "from nltk.stem.porter import PorterStemmer\n",
    "from nltk.stem import WordNetLemmatizer\n",
    "  \n",
    "lemmatizer = WordNetLemmatizer()\n",
    "porter_stemmer  = PorterStemmer()\n",
    "word = 'Marriage'\n",
    "print(\"word= {}, stemming_form={}, lemmatized_form={}\".format(word, porter_stemmer.stem(word), lemmatizer.lemmatize(word, pos =\"n\")))\n",
    "\n",
    "word = 'University'\n",
    "print(\"word= {}, stemming_form={}, lemmatized_form={}\".format(word, porter_stemmer.stem(word), lemmatizer.lemmatize(word, pos =\"n\")))\n",
    "\n",
    "word = 'better'\n",
    "print(\"word= {}, stemming_form={}, lemmatized_form={}\".format(word, porter_stemmer.stem(word), lemmatizer.lemmatize(word, pos =\"a\")))"
   ]
  },
  {
   "cell_type": "code",
   "execution_count": 11,
   "id": "63fbcfcd",
   "metadata": {
    "scrolled": true
   },
   "outputs": [
    {
     "name": "stdout",
     "output_type": "stream",
     "text": [
      "word= are, stemming_form=are, lemmatized_form=be\n",
      "word= studying, stemming_form=studi, lemmatized_form=study\n",
      "word= walking, stemming_form=walk, lemmatized_form=walk\n",
      "word= crying, stemming_form=cri, lemmatized_form=cry\n",
      "word= cries, stemming_form=cri, lemmatized_form=cry\n",
      "word= reading, stemming_form=read, lemmatized_form=read\n",
      "word= enjoying, stemming_form=enjoy, lemmatized_form=enjoy\n",
      "word= smoking, stemming_form=smoke, lemmatized_form=smoke\n",
      "word= increasing, stemming_form=increas, lemmatized_form=increase\n",
      "word= kissing, stemming_form=kiss, lemmatized_form=kiss\n",
      "word= changing, stemming_form=chang, lemmatized_form=change\n"
     ]
    }
   ],
   "source": [
    "from nltk.stem.porter import PorterStemmer\n",
    "from nltk.stem import WordNetLemmatizer\n",
    "  \n",
    "lemmatizer = WordNetLemmatizer()\n",
    "porter_stemmer  = PorterStemmer()\n",
    "\n",
    "verb_list = \"are studying walking crying cries reading enjoying smoking increasing kissing changing\".split(\" \")\n",
    "for word in verb_list:\n",
    "    print(\"word= {}, stemming_form={}, lemmatized_form={}\".format(word, porter_stemmer.stem(word), lemmatizer.lemmatize(word, pos =\"v\")))"
   ]
  },
  {
   "cell_type": "markdown",
   "id": "5e1443dd",
   "metadata": {},
   "source": [
    "#### 4.2 adjective"
   ]
  },
  {
   "cell_type": "code",
   "execution_count": 12,
   "id": "752d11dd",
   "metadata": {},
   "outputs": [
    {
     "name": "stdout",
     "output_type": "stream",
     "text": [
      "word= marriage, stemming_form=marriag, lemmatized_form=marriage\n",
      "word= awful, stemming_form=aw, lemmatized_form=awful\n",
      "word= better, stemming_form=better, lemmatized_form=good\n",
      "word= awesome, stemming_form=awesom, lemmatized_form=awesome\n",
      "word= homeless, stemming_form=homeless, lemmatized_form=homeless\n",
      "word= lucky, stemming_form=lucki, lemmatized_form=lucky\n",
      "word= lonely, stemming_form=lone, lemmatized_form=lonely\n",
      "word= vast, stemming_form=vast, lemmatized_form=vast\n",
      "word= annoyed, stemming_form=annoy, lemmatized_form=annoyed\n"
     ]
    }
   ],
   "source": [
    "adjective_list = \"marriage awful better awesome homeless lucky lonely vast annoyed\".split(' ')\n",
    "for word in adjective_list:\n",
    "    print(\"word= {}, stemming_form={}, lemmatized_form={}\".format(word, porter_stemmer.stem(word), lemmatizer.lemmatize(word, pos =\"a\")))"
   ]
  },
  {
   "cell_type": "markdown",
   "id": "f23af994",
   "metadata": {},
   "source": [
    "#### 4.3 adverb"
   ]
  },
  {
   "cell_type": "code",
   "execution_count": 13,
   "id": "f0458f38",
   "metadata": {},
   "outputs": [
    {
     "name": "stdout",
     "output_type": "stream",
     "text": [
      "word= abnormally, stemming_form=abnorm, lemmatized_form=abnormally\n",
      "word= boldly, stemming_form=boldli, lemmatized_form=boldly\n",
      "word= quickly, stemming_form=quickli, lemmatized_form=quickly\n",
      "word= regularly, stemming_form=regularli, lemmatized_form=regularly\n",
      "word= monthly, stemming_form=monthli, lemmatized_form=monthly\n",
      "word= more, stemming_form=more, lemmatized_form=more\n",
      "word= verbally, stemming_form=verbal, lemmatized_form=verbally\n",
      "word= yearly, stemming_form=yearli, lemmatized_form=yearly\n"
     ]
    }
   ],
   "source": [
    "adverb_list= \"abnormally boldly quickly regularly monthly more verbally yearly\".split(' ')\n",
    "for word in adverb_list:\n",
    "    print(\"word= {}, stemming_form={}, lemmatized_form={}\".format(word, porter_stemmer.stem(word), lemmatizer.lemmatize(word, pos =\"r\")))"
   ]
  },
  {
   "cell_type": "code",
   "execution_count": 14,
   "id": "8bd83b5b",
   "metadata": {},
   "outputs": [
    {
     "ename": "IndentationError",
     "evalue": "unexpected indent (266632938.py, line 2)",
     "output_type": "error",
     "traceback": [
      "\u001b[1;36m  File \u001b[1;32m\"C:\\Users\\JaiBrahma\\AppData\\Local\\Temp\\ipykernel_18384\\266632938.py\"\u001b[1;36m, line \u001b[1;32m2\u001b[0m\n\u001b[1;33m    - the indivdual word has to be stemmed or lemmatized\u001b[0m\n\u001b[1;37m    ^\u001b[0m\n\u001b[1;31mIndentationError\u001b[0m\u001b[1;31m:\u001b[0m unexpected indent\n"
     ]
    }
   ],
   "source": [
    "### 5. Stemmming vs Lemmatization on a sentence/corpus\n",
    " - the indivdual word has to be stemmed or lemmatized"
   ]
  },
  {
   "cell_type": "code",
   "execution_count": null,
   "id": "4e17ccde",
   "metadata": {},
   "outputs": [],
   "source": [
    "# WORDNET LEMMATIZER (with appropriate pos tags)\n",
    "from nltk.corpus import wordnet\n",
    " \n",
    "lemmatizer = WordNetLemmatizer()\n",
    " \n",
    "# Define function to lemmatize each word with its POS tag\n",
    " \n",
    "# POS_TAGGER_FUNCTION : TYPE 1\n",
    "def pos_tagger(nltk_tag):\n",
    "    if nltk_tag.startswith('J'):\n",
    "        return wordnet.ADJ\n",
    "    elif nltk_tag.startswith('V'):\n",
    "        return wordnet.VERB\n",
    "    elif nltk_tag.startswith('N'):\n",
    "        return wordnet.NOUN\n",
    "    elif nltk_tag.startswith('R'):\n",
    "        return wordnet.ADV\n",
    "    else:         \n",
    "        return None\n",
    " \n",
    "\n",
    "\n",
    "#> the cat can be sit with the bat on the striped mat under many fly geese"
   ]
  },
  {
   "cell_type": "code",
   "execution_count": null,
   "id": "b4216732",
   "metadata": {},
   "outputs": [],
   "source": [
    "sentence = 'the cat is sitting with the bats on the striped mat under many badly flying geese'\n",
    "\n",
    "word_list = nltk.word_tokenize(sentence)\n",
    "\n",
    "# tokenize the sentence and find the POS tag for each token\n",
    "pos_tagged = nltk.pos_tag(word_list) \n",
    " \n",
    "print('pos_tagged::', pos_tagged, end='\\n\\n')\n",
    "#>[('the', 'DT'), ('cat', 'NN'), ('is', 'VBZ'), ('sitting', 'VBG'), ('with', 'IN'),\n",
    "# ('the', 'DT'), ('bats', 'NNS'), ('on', 'IN'), ('the', 'DT'), ('striped', 'JJ'),\n",
    "# ('mat', 'NN'), ('under', 'IN'), ('many', 'JJ'), ('flying', 'VBG'), ('geese', 'JJ')]\n",
    " \n",
    "# As you may have noticed, the above pos tags are a little confusing.\n",
    " \n",
    "# we use our own pos_tagger function to make things simpler to understand.\n",
    "wordnet_tagged = list(map(lambda x: (x[0], pos_tagger(x[1])), pos_tagged))\n",
    "print('wordnet_tagged :::', wordnet_tagged, end='\\n\\n')\n",
    "#>[('the', None), ('cat', 'n'), ('is', 'v'), ('sitting', 'v'), ('with', None),\n",
    "# ('the', None), ('bats', 'n'), ('on', None), ('the', None), ('striped', 'a'),\n",
    "# ('mat', 'n'), ('under', None), ('many', 'a'), ('flying', 'v'), ('geese', 'a')]\n",
    " "
   ]
  },
  {
   "cell_type": "code",
   "execution_count": null,
   "id": "9507cb25",
   "metadata": {},
   "outputs": [],
   "source": [
    "\n",
    "for  word, tag in wordnet_tagged:\n",
    "    #print(word, tag)\n",
    "    if tag is None:\n",
    "        print(\"word={}, stemmed form => {}, lemmatized form=>{}\".format(word, porter_stemmer.stem(word), word) )\n",
    "    else:\n",
    "        print(\"word={}, stemmed form => {}, lemmatized form=> {}\".format(word, porter_stemmer.stem(word),  lemmatizer.lemmatize(word, pos=tag) ))"
   ]
  },
  {
   "cell_type": "code",
   "execution_count": null,
   "id": "2c708707",
   "metadata": {},
   "outputs": [],
   "source": [
    "stemmed_sentence = []\n",
    "lemmatized_sentence = []\n",
    "for  word, tag in wordnet_tagged:\n",
    "    stemmed_sentence.append(porter_stemmer.stem(word))\n",
    "    if tag is None:\n",
    "        lemmatized_sentence.append(word)\n",
    "    else:\n",
    "        lemmatized_sentence.append(lemmatizer.lemmatize(word, pos=tag) )\n",
    "\n",
    "print('Original Sentence => ', ' '.join(word_list), end= '\\n\\n')\n",
    "print('stemmed_sentence => ', ' '.join(stemmed_sentence), end= '\\n\\n')\n",
    "print('lemmatized_sentence => ', ' '.join(lemmatized_sentence), end= '\\n\\n')"
   ]
  },
  {
   "cell_type": "code",
   "execution_count": null,
   "id": "b1c46a72",
   "metadata": {},
   "outputs": [],
   "source": []
  }
 ],
 "metadata": {
  "kernelspec": {
   "display_name": "Python 3 (ipykernel)",
   "language": "python",
   "name": "python3"
  },
  "language_info": {
   "codemirror_mode": {
    "name": "ipython",
    "version": 3
   },
   "file_extension": ".py",
   "mimetype": "text/x-python",
   "name": "python",
   "nbconvert_exporter": "python",
   "pygments_lexer": "ipython3",
   "version": "3.7.13"
  }
 },
 "nbformat": 4,
 "nbformat_minor": 5
}
