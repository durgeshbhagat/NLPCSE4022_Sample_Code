{
 "cells": [
  {
   "cell_type": "code",
   "execution_count": 1,
   "id": "bb74c8ea",
   "metadata": {},
   "outputs": [],
   "source": [
    "import nltk\n",
    "from nltk.stem import PorterStemmer\n",
    "from nltk.tokenize import word_tokenize"
   ]
  },
  {
   "cell_type": "code",
   "execution_count": 2,
   "id": "1dc00308",
   "metadata": {},
   "outputs": [
    {
     "data": {
      "text/plain": [
       "'work'"
      ]
     },
     "execution_count": 2,
     "metadata": {},
     "output_type": "execute_result"
    }
   ],
   "source": [
    "ps = PorterStemmer()\n",
    "ps.stem('working')"
   ]
  },
  {
   "cell_type": "code",
   "execution_count": 19,
   "id": "cfaf0376",
   "metadata": {},
   "outputs": [
    {
     "name": "stdout",
     "output_type": "stream",
     "text": [
      "Help on method stem in module nltk.stem.porter:\n",
      "\n",
      "stem(word, to_lowercase=True) method of nltk.stem.porter.PorterStemmer instance\n",
      "    :param to_lowercase: if `to_lowercase=True` the word always lowercase\n",
      "\n"
     ]
    }
   ],
   "source": [
    "help(ps.stem)"
   ]
  },
  {
   "cell_type": "markdown",
   "id": "b0f4d833",
   "metadata": {},
   "source": [
    "## Stem a list of words"
   ]
  },
  {
   "cell_type": "code",
   "execution_count": 13,
   "id": "c832c4cf",
   "metadata": {},
   "outputs": [
    {
     "name": "stdout",
     "output_type": "stream",
     "text": [
      "python => python\n",
      "pythoner => python\n",
      "pythoning => python\n",
      "pythoned => python\n",
      "pythonly => pythonli\n"
     ]
    }
   ],
   "source": [
    " example_words = [\"python\",\"pythoner\",\"pythoning\",\"pythoned\",\"pythonly\"]\n",
    "\n",
    " for w in example_words:\n",
    "     print(\"{} => {}\".format(w, ps.stem(w)))"
   ]
  },
  {
   "cell_type": "code",
   "execution_count": 17,
   "id": "0e0a36c7",
   "metadata": {},
   "outputs": [
    {
     "name": "stdout",
     "output_type": "stream",
     "text": [
      "multiply => multipli\n",
      "provision => provis\n",
      "owed => owe\n",
      "ear => ear\n",
      "saying => say\n",
      "crying => cri\n",
      "string => string\n",
      "meant => meant\n",
      "cement => cement\n",
      "kilometer => kilomet\n"
     ]
    }
   ],
   "source": [
    "example_words = ['multiply', 'provision','owed', 'ear','saying', 'crying',\\\n",
    "                 'string', 'meant', 'cement', 'kilometer' ]\n",
    "for w in example_words:\n",
    "    print(\"{} => {}\".format(w, ps.stem(w)))"
   ]
  },
  {
   "cell_type": "code",
   "execution_count": null,
   "id": "5684b341",
   "metadata": {},
   "outputs": [],
   "source": []
  },
  {
   "cell_type": "markdown",
   "id": "fe475d43",
   "metadata": {},
   "source": [
    "## Stem a sentence after tokenizing it"
   ]
  },
  {
   "cell_type": "code",
   "execution_count": 14,
   "id": "37e2003e",
   "metadata": {},
   "outputs": [
    {
     "name": "stdout",
     "output_type": "stream",
     "text": [
      "It => it\n",
      "is => is\n",
      "important => import\n",
      "to => to\n",
      "by => by\n",
      "very => veri\n",
      "pythonly => pythonli\n",
      "while => while\n",
      "you => you\n",
      "are => are\n",
      "pythoning => python\n",
      "with => with\n",
      "python => python\n",
      ". => .\n",
      "All => all\n",
      "pythoners => python\n",
      "have => have\n",
      "pythoned => python\n",
      "poorly => poorli\n",
      "at => at\n",
      "least => least\n",
      "once => onc\n",
      ". => .\n"
     ]
    }
   ],
   "source": [
    " new_text = \"It is important to by very pythonly while you are pythoning with python. All pythoners have pythoned poorly at least once.\"\n",
    "\n",
    " word_tokens = word_tokenize(new_text)\n",
    " for w in word_tokens:\n",
    "     print(\"{} => {}\".format(w, ps.stem(w)))   # Passing word tokens into stem method of Porter Stemmer"
   ]
  }
 ],
 "metadata": {
  "kernelspec": {
   "display_name": "Python 3.7.13 ('NLPCSE4022')",
   "language": "python",
   "name": "python3"
  },
  "language_info": {
   "codemirror_mode": {
    "name": "ipython",
    "version": 3
   },
   "file_extension": ".py",
   "mimetype": "text/x-python",
   "name": "python",
   "nbconvert_exporter": "python",
   "pygments_lexer": "ipython3",
   "version": "3.7.13"
  },
  "vscode": {
   "interpreter": {
    "hash": "5df88fe8058c1c81cee0acc82f51fe8a2cc63a90ad0f55cffc776d7b5f74b5a4"
   }
  }
 },
 "nbformat": 4,
 "nbformat_minor": 5
}
