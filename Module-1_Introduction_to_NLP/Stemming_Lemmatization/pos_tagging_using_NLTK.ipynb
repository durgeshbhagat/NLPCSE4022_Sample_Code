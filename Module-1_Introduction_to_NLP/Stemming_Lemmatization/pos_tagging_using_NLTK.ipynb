{
 "cells": [
  {
   "cell_type": "code",
   "execution_count": 1,
   "id": "d9137de3",
   "metadata": {},
   "outputs": [
    {
     "name": "stderr",
     "output_type": "stream",
     "text": [
      "[nltk_data] Downloading package averaged_perceptron_tagger to\n",
      "[nltk_data]     C:\\Users\\JaiBrahma\\AppData\\Roaming\\nltk_data...\n",
      "[nltk_data]   Package averaged_perceptron_tagger is already up-to-\n",
      "[nltk_data]       date!\n"
     ]
    },
    {
     "data": {
      "text/plain": [
       "True"
      ]
     },
     "execution_count": 1,
     "metadata": {},
     "output_type": "execute_result"
    }
   ],
   "source": [
    "import nltk\n",
    "from nltk.corpus import stopwords\n",
    "from nltk.tokenize import word_tokenize, sent_tokenize\n",
    "stop_words = set(stopwords.words('english'))\n",
    "nltk.download('averaged_perceptron_tagger')"
   ]
  },
  {
   "cell_type": "code",
   "execution_count": 2,
   "id": "498610eb",
   "metadata": {},
   "outputs": [],
   "source": [
    "#Dummy text\n",
    "txt = \"Sukanya, Rajib and Naba are my good friends. \" \\\n",
    "    \"Sukanya is getting married next year. \" \\\n",
    "    \"Marriage is a big step in one’s life.\" \\\n",
    "    \"It is both exciting and frightening. \" \\\n",
    "    \"But friendship is a sacred bond between people.\" \\\n",
    "    \"It is a special kind of love between us. \" \\\n",
    "    \"Many of you must have tried searching for a friend \"\\\n",
    "    \"but never found the right one.\""
   ]
  },
  {
   "cell_type": "code",
   "execution_count": 3,
   "id": "e241cebb",
   "metadata": {},
   "outputs": [
    {
     "name": "stdout",
     "output_type": "stream",
     "text": [
      "[('Sukanya', 'NNP'), (',', ','), ('Rajib', 'NNP'), ('Naba', 'NNP'), ('good', 'JJ'), ('friends', 'NNS'), ('.', '.')]\n",
      "[('Sukanya', 'NNP'), ('getting', 'VBG'), ('married', 'VBN'), ('next', 'JJ'), ('year', 'NN'), ('.', '.')]\n",
      "[('Marriage', 'NN'), ('big', 'JJ'), ('step', 'NN'), ('one', 'CD'), ('’', 'NN'), ('life.It', 'NN'), ('exciting', 'VBG'), ('frightening', 'NN'), ('.', '.')]\n",
      "[('But', 'CC'), ('friendship', 'NN'), ('sacred', 'VBD'), ('bond', 'NN'), ('people.It', 'NN'), ('special', 'JJ'), ('kind', 'NN'), ('love', 'VB'), ('us', 'PRP'), ('.', '.')]\n",
      "[('Many', 'JJ'), ('must', 'MD'), ('tried', 'VB'), ('searching', 'VBG'), ('friend', 'NN'), ('never', 'RB'), ('found', 'VBD'), ('right', 'JJ'), ('one', 'CD'), ('.', '.')]\n"
     ]
    }
   ],
   "source": [
    "\n",
    "# sent_tokenize is one of instances of\n",
    "# PunktSentenceTokenizer from the nltk.tokenize.punkt module\n",
    " \n",
    "tokenized = sent_tokenize(txt)\n",
    "for i in tokenized:\n",
    "     \n",
    "    # Word tokenizers is used to find the words\n",
    "    # and punctuation in a string\n",
    "    wordsList = nltk.word_tokenize(i)\n",
    " \n",
    "    # removing stop words from wordList\n",
    "    wordsList = [w for w in wordsList if not w in stop_words]\n",
    " \n",
    "    #  Using a Tagger. Which is part-of-speech\n",
    "    # tagger or POS-tagger.\n",
    "    tagged = nltk.pos_tag(wordsList)\n",
    " \n",
    "    print(tagged)"
   ]
  },
  {
   "cell_type": "markdown",
   "id": "339a95ff",
   "metadata": {},
   "source": [
    "### The Parts Of Speech Tag List\n",
    "-- In the above example, the output contained tags like NN, NNP, VBD, etc. Following is the complete list of such POS tags.\n",
    "\n",
    "- CC Coordinating Conjunction\n",
    "- CD Cardinal Digit\n",
    "- DT Determiner\n",
    "- EX Existential There. Example: “there is” … think of it like “there exists”)\n",
    "- FW Foreign Word.\n",
    "- IN Preposition/Subordinating Conjunction.\n",
    "- **Adjective**\n",
    "--- JJ Adjective.\n",
    "--- JJR Adjective, Comparative.\n",
    "--- JJS Adjective, Superlative.\n",
    "- LS List Marker 1.\n",
    "- MD Modal.\n",
    "- **Noun**\n",
    "--- NN Noun, Singular.\n",
    "--- NNS Noun Plural.\n",
    "--- NNP Proper Noun, Singular.\n",
    "--- NNPS Proper Noun, Plural.\n",
    "- PDT Predeterminer.\n",
    "- POS Possessive Ending. Example: parent’s\n",
    "- **Pronoun**\n",
    "--- PRP Personal Pronoun. Examples: I, he, she\n",
    "--- PRP\\$ Possessive Pronoun. Examples: my, his, hers\n",
    "- **Adverb**\n",
    "--- RB Adverb. Examples: very, silently,\n",
    "--- RBR Adverb, Comparative. Example: better\n",
    "--- RBS Adverb, Superlative. Example: best\n",
    "- RP Particle. Example: give up\n",
    "- TO to. Example: go ‘to’ the store.\n",
    "- UH Interjection. Example: errrrrrrrm\n",
    "- **Verb**\n",
    "--- VB Verb, Base Form. Example: take\n",
    "--- VBD Verb, Past Tense. Example: took\n",
    "--- VBG Verb, Gerund/Present Participle. Example: taking\n",
    "--- VBN Verb, Past Participle. Example: taken\n",
    "--- VBP Verb, Sing Present, non-3d take\n",
    "--- VBZ Verb, 3rd person sing. present takes\n",
    "- **Pronoun**\n",
    "--- WDT wh-determiner. Example: which\n",
    "--- WP wh-pronoun. Example: who, what\n",
    "--- WP$ possessive wh-pronoun. Example: whose\n",
    "- WRB wh-abverb. Example: where, when"
   ]
  },
  {
   "cell_type": "markdown",
   "id": "130c44ed",
   "metadata": {},
   "source": []
  }
 ],
 "metadata": {
  "kernelspec": {
   "display_name": "Python 3 (ipykernel)",
   "language": "python",
   "name": "python3"
  },
  "language_info": {
   "codemirror_mode": {
    "name": "ipython",
    "version": 3
   },
   "file_extension": ".py",
   "mimetype": "text/x-python",
   "name": "python",
   "nbconvert_exporter": "python",
   "pygments_lexer": "ipython3",
   "version": "3.7.13"
  }
 },
 "nbformat": 4,
 "nbformat_minor": 5
}
