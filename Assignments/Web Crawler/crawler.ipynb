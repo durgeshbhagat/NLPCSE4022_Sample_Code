{
 "cells": [
  {
   "cell_type": "code",
   "execution_count": 2,
   "metadata": {},
   "outputs": [],
   "source": [
    "import logging\n",
    "from urllib.parse import urljoin\n",
    "import requests\n",
    "from bs4 import BeautifulSoup"
   ]
  },
  {
   "cell_type": "code",
   "execution_count": 23,
   "metadata": {},
   "outputs": [],
   "source": [
    "result = dict()\n",
    "departments = ['database-systems','software-systems','information-security','computational-intelligence','information-security','analytics','iot']\n",
    "for department in departments:\n",
    "    url = \"https://vit.ac.in/school/allfaculty/scope/\"+department\n",
    "    req = requests.get(url)\n",
    "    page = BeautifulSoup(req.content,'html5lib')\n",
    "    profile_info = page.find_all('div',class_='profile_info')\n",
    "    faculty =[]\n",
    "    for item in profile_info:\n",
    "        s = item.text\n",
    "        s = s.strip()\n",
    "        s = s.replace('\\n',' ')\n",
    "        s = s.replace('\\t','')\n",
    "        faculty.append(s)\n",
    "    result[department] = faculty\n"
   ]
  },
  {
   "cell_type": "code",
   "execution_count": 60,
   "metadata": {},
   "outputs": [],
   "source": [
    "import xlwt\n",
    "from xlwt import Workbook\n",
    "wb = Workbook()\n",
    "faculty_list = wb.add_sheet('Faculty List')"
   ]
  },
  {
   "cell_type": "code",
   "execution_count": 61,
   "metadata": {},
   "outputs": [],
   "source": [
    "faculty_list.write(0,1,\"Name\")\n",
    "faculty_list.write(0,2,\"Department\")\n",
    "faculty_list.write(0,3,\"Designation\")\n",
    "i=1\n",
    "for department in result:\n",
    "    faculties = result[department]\n",
    "    for faculty in faculties:\n",
    "        x = faculty.split('   ')\n",
    "        # faculty_list.write(x[0],department,x[1])\n",
    "        faculty_list.write(i,1,x[0])\n",
    "        faculty_list.write(i,2,department)\n",
    "        faculty_list.write(i,3,x[1])\n",
    "        i=i+1"
   ]
  },
  {
   "cell_type": "code",
   "execution_count": 62,
   "metadata": {},
   "outputs": [],
   "source": [
    "wb.save('result.xls')"
   ]
  }
 ],
 "metadata": {
  "kernelspec": {
   "display_name": "Python 3.9.12 ('base')",
   "language": "python",
   "name": "python3"
  },
  "language_info": {
   "codemirror_mode": {
    "name": "ipython",
    "version": 3
   },
   "file_extension": ".py",
   "mimetype": "text/x-python",
   "name": "python",
   "nbconvert_exporter": "python",
   "pygments_lexer": "ipython3",
   "version": "3.9.12"
  },
  "orig_nbformat": 4,
  "vscode": {
   "interpreter": {
    "hash": "eecee88d82e033e596ebd607ad429a20874bef18bfeedb4258ce6b26b139d428"
   }
  }
 },
 "nbformat": 4,
 "nbformat_minor": 2
}
