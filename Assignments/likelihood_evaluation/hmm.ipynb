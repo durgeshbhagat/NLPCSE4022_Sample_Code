{
 "cells": [
  {
   "cell_type": "markdown",
   "metadata": {},
   "source": [
    "<h1>Hidden Markov Model - Forward Backward ALgorithm</h1>"
   ]
  },
  {
   "cell_type": "markdown",
   "metadata": {},
   "source": [
    "***Given  :*** \n",
    "\n",
    "**Set of States  Q = [N]**\n",
    "\n",
    "**State Transition Probability  A =[N][N]**\n",
    "\n",
    "**Set of Outputs = [M]**\n",
    "\n",
    "**Emission Matrix  B = [M][N]**\n",
    "\n",
    "**pi = [N]**"
   ]
  },
  {
   "cell_type": "code",
   "execution_count": 145,
   "metadata": {},
   "outputs": [],
   "source": [
    "A = [[0.2,0.3,0.5],[0.1,0.2,0.7],[0.4,0.25,0.35]]\n",
    "B = [[0.3,0.7],[0.2,0.8],[0.9,0.1]]\n",
    "pi = [0.5,0.3,0.2]"
   ]
  },
  {
   "cell_type": "markdown",
   "metadata": {},
   "source": [
    "## Forward Algorithm\n",
    "\n",
    "**Observed Outputs  : <U,NU,U,U>**"
   ]
  },
  {
   "cell_type": "code",
   "execution_count": 146,
   "metadata": {},
   "outputs": [],
   "source": [
    "O = [1,2,1,1]\n",
    "N  = len(A)\n",
    "T = len(O)\n",
    "alpha = [[0 for i in range(N)]for j in range(T)]\n"
   ]
  },
  {
   "cell_type": "code",
   "execution_count": 147,
   "metadata": {},
   "outputs": [
    {
     "data": {
      "text/plain": [
       "[[0.35, 0.24, 0.020000000000000004], [0, 0, 0], [0, 0, 0], [0, 0, 0]]"
      ]
     },
     "execution_count": 147,
     "metadata": {},
     "output_type": "execute_result"
    }
   ],
   "source": [
    "#Initialization \n",
    "for j in range(N): \n",
    "    alpha[0][j] = (pi[j]*B[j][O[0]])\n",
    "alpha"
   ]
  },
  {
   "cell_type": "code",
   "execution_count": 148,
   "metadata": {},
   "outputs": [
    {
     "data": {
      "text/plain": [
       "[[0.35, 0.24, 0.020000000000000004],\n",
       " [0.07139999999999999, 0.1264, 0.034999999999999996],\n",
       " [0.004284, 0.009340000000000001, 0.122787],\n",
       " [0.00025704, 0.00063064, 0.046489905]]"
      ]
     },
     "execution_count": 148,
     "metadata": {},
     "output_type": "execute_result"
    }
   ],
   "source": [
    "#DP\n",
    "for j in range(N):\n",
    "    for t in range(1,T):\n",
    "        for i in range(N):  \n",
    "            alpha[t][j] += alpha[t-1][i]*A[i][j]*B[j][O[t]-1]\n",
    "alpha"
   ]
  },
  {
   "cell_type": "code",
   "execution_count": 149,
   "metadata": {},
   "outputs": [
    {
     "data": {
      "text/plain": [
       "0.047377585"
      ]
     },
     "execution_count": 149,
     "metadata": {},
     "output_type": "execute_result"
    }
   ],
   "source": [
    "#Termination\n",
    "sum = 0\n",
    "for i in range(N):\n",
    "    sum+= alpha[T-1][i]\n",
    "    # print(sum)\n",
    "sum"
   ]
  },
  {
   "cell_type": "markdown",
   "metadata": {},
   "source": [
    "## Backward Algorithm"
   ]
  },
  {
   "cell_type": "code",
   "execution_count": 150,
   "metadata": {},
   "outputs": [],
   "source": []
  },
  {
   "cell_type": "code",
   "execution_count": 156,
   "metadata": {},
   "outputs": [
    {
     "data": {
      "text/plain": [
       "[[0, 0, 0], [0, 0, 0], [0, 0, 0], [1, 1, 1]]"
      ]
     },
     "execution_count": 156,
     "metadata": {},
     "output_type": "execute_result"
    }
   ],
   "source": [
    "#Initialisation\n",
    "beta = [[0 for i in range(N)]for j in range(T)]\n",
    "for j in range(N): \n",
    "    beta[T-1][j] = 1\n",
    "beta\n"
   ]
  },
  {
   "cell_type": "code",
   "execution_count": 152,
   "metadata": {},
   "outputs": [
    {
     "data": {
      "text/plain": [
       "[[0.004788, 0.009610000000000002, 0.027562125],\n",
       " [0.0342, 0.0451, 0.256175],\n",
       " [0.5700000000000001, 0.7, 0.485],\n",
       " [1, 1, 1]]"
      ]
     },
     "execution_count": 152,
     "metadata": {},
     "output_type": "execute_result"
    }
   ],
   "source": [
    "#Recursion\n",
    "for j in range(N):\n",
    "    for t in range(T-2,-1,-1):\n",
    "        for i in range(N):\n",
    "            # print(beta[t+1][i])\n",
    "            beta[t][j]+= A[j][i]*B[i][O[t+1]-1]*beta[t+1][i]\n",
    "beta"
   ]
  },
  {
   "cell_type": "code",
   "execution_count": 157,
   "metadata": {},
   "outputs": [],
   "source": [
    "#Recursion\n",
    "for t in range(T-2,-1,-1):\n",
    "    for i in range(N):\n",
    "        for j in range(N):\n",
    "            # print(beta[t+1][i])\n",
    "            beta[t][i]+= A[i][j]*B[j][O[t+1]-1]*beta[t+1][j]"
   ]
  },
  {
   "cell_type": "code",
   "execution_count": 160,
   "metadata": {},
   "outputs": [
    {
     "name": "stdout",
     "output_type": "stream",
     "text": [
      "[[0.13818775, 0.09464775000000002, 0.16154212499999998], [0.29445, 0.35065, 0.256175], [0.5700000000000001, 0.7, 0.485], [1, 1, 1]]\n",
      "0.129796625\n"
     ]
    }
   ],
   "source": [
    "print(beta)\n",
    "#Termination\n",
    "sum2 = 0\n",
    "for j in range(N):\n",
    "    sum2+=(pi[j]* B[j][O[0]-1]* beta[0][j])\n",
    "    # print(sum)\n",
    "print(sum2)\n"
   ]
  },
  {
   "cell_type": "code",
   "execution_count": 159,
   "metadata": {},
   "outputs": [
    {
     "data": {
      "text/plain": [
       "0.047377585"
      ]
     },
     "execution_count": 159,
     "metadata": {},
     "output_type": "execute_result"
    }
   ],
   "source": [
    "sum\n"
   ]
  }
 ],
 "metadata": {
  "kernelspec": {
   "display_name": "Python 3.10.7 64-bit (microsoft store)",
   "language": "python",
   "name": "python3"
  },
  "language_info": {
   "codemirror_mode": {
    "name": "ipython",
    "version": 3
   },
   "file_extension": ".py",
   "mimetype": "text/x-python",
   "name": "python",
   "nbconvert_exporter": "python",
   "pygments_lexer": "ipython3",
   "version": "3.10.7"
  },
  "orig_nbformat": 4,
  "vscode": {
   "interpreter": {
    "hash": "b172203ee8b10040bac59eee6262ad7bab56664ea0a389bb235d62829ec988df"
   }
  }
 },
 "nbformat": 4,
 "nbformat_minor": 2
}
