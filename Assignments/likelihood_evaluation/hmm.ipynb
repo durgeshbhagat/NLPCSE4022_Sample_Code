{
 "cells": [
  {
   "cell_type": "markdown",
   "metadata": {},
   "source": [
    "<h1>Hidden Markov Model - Forward Backward ALgorithm</h1>"
   ]
  },
  {
   "cell_type": "markdown",
   "metadata": {},
   "source": [
    "***Given  :*** \n",
    "\n",
    "**Set of States  Q = [N]**\n",
    "\n",
    "**State Transition Probability  A =[N][N]**\n",
    "\n",
    "**Set of Outputs = [M]**\n",
    "\n",
    "**Emission Matrix  B = [M][N]**\n",
    "\n",
    "**pi = [N]**"
   ]
  },
  {
   "cell_type": "code",
   "execution_count": 92,
   "metadata": {},
   "outputs": [],
   "source": [
    "A = [[0.2,0.3,0.5],[0.1,0.2,0.7],[0.4,0.25,0.35]]\n",
    "B = [[0.3,0.7],[0.2,0.8],[0.9,0.1]]\n",
    "pi = [0.5,0.3,0.2]"
   ]
  },
  {
   "cell_type": "markdown",
   "metadata": {},
   "source": [
    "## Forward Algorithm\n",
    "\n",
    "**Observed Outputs  : <U,NU,U,U>**"
   ]
  },
  {
   "cell_type": "code",
   "execution_count": 93,
   "metadata": {},
   "outputs": [],
   "source": [
    "O = [1,2,1,1]\n",
    "N  = len(A)\n",
    "T = len(O)\n",
    "alpha = [[0 for i in range(N)]for j in range(T)]\n"
   ]
  },
  {
   "cell_type": "code",
   "execution_count": 94,
   "metadata": {},
   "outputs": [
    {
     "data": {
      "text/plain": [
       "[[0.35, 0.24, 0.020000000000000004], [0, 0, 0], [0, 0, 0], [0, 0, 0]]"
      ]
     },
     "execution_count": 94,
     "metadata": {},
     "output_type": "execute_result"
    }
   ],
   "source": [
    "#Initialization \n",
    "for j in range(N): \n",
    "    alpha[0][j] = (pi[j]*B[j][O[0]])\n",
    "alpha"
   ]
  },
  {
   "cell_type": "code",
   "execution_count": 95,
   "metadata": {},
   "outputs": [
    {
     "data": {
      "text/plain": [
       "[[0.35, 0.24, 0.020000000000000004],\n",
       " [0.07139999999999999, 0.1264, 0.034999999999999996],\n",
       " [0.012275999999999999, 0.011090000000000001, 0.122787],\n",
       " [0.0158037, 0.0073195099999999996, 0.051188805]]"
      ]
     },
     "execution_count": 95,
     "metadata": {},
     "output_type": "execute_result"
    }
   ],
   "source": [
    "#DP\n",
    "for t in range(1,T):\n",
    "    for j in range(N):\n",
    "        for i in range(N):  \n",
    "            alpha[t][j] += alpha[t-1][i]*A[i][j]*B[j][O[t]-1]\n",
    "alpha"
   ]
  },
  {
   "cell_type": "markdown",
   "metadata": {},
   "source": [
    "## Backward Algorithm"
   ]
  },
  {
   "cell_type": "code",
   "execution_count": 96,
   "metadata": {},
   "outputs": [
    {
     "data": {
      "text/plain": [
       "[[0, 0, 0], [0, 0, 0], [0, 0, 0], [1, 1, 1]]"
      ]
     },
     "execution_count": 96,
     "metadata": {},
     "output_type": "execute_result"
    }
   ],
   "source": [
    "#Initialisation\n",
    "beta = [[0 for i in range(N)]for j in range(T)]\n",
    "for j in range(N): \n",
    "    beta[T-1][j] = 1\n",
    "    # beta[T-1][j] = B[j][O[T-1]-1]\n",
    "beta\n"
   ]
  },
  {
   "cell_type": "code",
   "execution_count": 97,
   "metadata": {},
   "outputs": [],
   "source": [
    "# #Recursion\n",
    "# for j in range(N):\n",
    "#     for t in range(T-2,-1,-1):\n",
    "#         for i in range(N):\n",
    "#             # print(beta[t+1][i])\n",
    "#             beta[t][j]+= A[j][i]*B[i][O[t+1]-1]*beta[t+1][i]\n",
    "# beta"
   ]
  },
  {
   "cell_type": "code",
   "execution_count": 98,
   "metadata": {},
   "outputs": [
    {
     "data": {
      "text/plain": [
       "[[0.13818775, 0.09464775000000002, 0.16154212499999998],\n",
       " [0.29445, 0.35065, 0.256175],\n",
       " [0.5700000000000001, 0.7, 0.485],\n",
       " [1, 1, 1]]"
      ]
     },
     "execution_count": 98,
     "metadata": {},
     "output_type": "execute_result"
    }
   ],
   "source": [
    "#Recursion\n",
    "for t in range(T-2,-1,-1):\n",
    "    for i in range(N):\n",
    "        for j in range(N):\n",
    "            # print(beta[t+1][i])\n",
    "            beta[t][i]+= A[i][j]*B[j][O[t+1]-1]*beta[t+1][j]\n",
    "            # beta[t][i]+= A[i][j]*B[i][O[t]-1]*beta[t+1][j]\n",
    "beta"
   ]
  },
  {
   "cell_type": "code",
   "execution_count": 99,
   "metadata": {},
   "outputs": [
    {
     "name": "stdout",
     "output_type": "stream",
     "text": [
      "0.055484610000000004\n"
     ]
    }
   ],
   "source": [
    "#Termination\n",
    "sum2 = 0\n",
    "for j in range(N):\n",
    "    sum2+=(pi[j]* B[j][O[0]-1]* beta[0][j])\n",
    "    # sum2+=(pi[j]* beta[0][j])\n",
    "    # print(sum)\n",
    "print(sum2)\n"
   ]
  },
  {
   "cell_type": "code",
   "execution_count": 100,
   "metadata": {},
   "outputs": [
    {
     "data": {
      "text/plain": [
       "0.074312015"
      ]
     },
     "execution_count": 100,
     "metadata": {},
     "output_type": "execute_result"
    }
   ],
   "source": [
    "sum\n"
   ]
  }
 ],
 "metadata": {
  "kernelspec": {
   "display_name": "Python 3.9.13 64-bit",
   "language": "python",
   "name": "python3"
  },
  "language_info": {
   "codemirror_mode": {
    "name": "ipython",
    "version": 3
   },
   "file_extension": ".py",
   "mimetype": "text/x-python",
   "name": "python",
   "nbconvert_exporter": "python",
   "pygments_lexer": "ipython3",
   "version": "3.9.13"
  },
  "orig_nbformat": 4,
  "vscode": {
   "interpreter": {
    "hash": "8c50134b391260745b2fe6a2c1c8b3a0342d42548246a7fa04144079639e446b"
   }
  }
 },
 "nbformat": 4,
 "nbformat_minor": 2
}
