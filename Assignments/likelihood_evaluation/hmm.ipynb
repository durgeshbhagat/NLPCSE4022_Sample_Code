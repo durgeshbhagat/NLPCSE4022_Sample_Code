{
 "cells": [
  {
   "cell_type": "markdown",
   "metadata": {},
   "source": [
    "***Given  :*** \n",
    "\n",
    "**Set of States  Q = [N]**\n",
    "\n",
    "**State Transition Probability  A =[N][N]**\n",
    "\n",
    "**Set of Outputs O = [M]**\n",
    "\n",
    "**Emission Matrix  B = [M][N]**\n",
    "\n",
    "**pi = [N]**"
   ]
  },
  {
   "cell_type": "code",
   "execution_count": 3,
   "metadata": {},
   "outputs": [],
   "source": [
    "A = [[0.1,0.4,0.5],[0.2,0.4,0.4],[0.6,0.1,0.3]]\n",
    "B = [[0.4,0.6],[0.2,0.8],[0.3,0.7]]\n",
    "pi = [0.3,0.5,0.2]"
   ]
  },
  {
   "cell_type": "markdown",
   "metadata": {},
   "source": [
    "Observed Outputs  : <U,NU,U,U> \n",
    "\n",
    "Set of states : <q1,q2,q1,q3>"
   ]
  },
  {
   "cell_type": "code",
   "execution_count": 49,
   "metadata": {},
   "outputs": [
    {
     "data": {
      "text/plain": [
       "[[0.18, 0.4, 0.13999999999999999], [0, 0, 0], [0, 0, 0], [0, 0, 0]]"
      ]
     },
     "execution_count": 49,
     "metadata": {},
     "output_type": "execute_result"
    }
   ],
   "source": [
    "O = [1,2,1,1]\n",
    "N  = len(A)\n",
    "T = len(O)\n",
    "alpha = [[0 for i in range(N)]for j in range(T)]\n",
    "#Initialization \n",
    "\n",
    "for j in range(N): \n",
    "    alpha[0][j] = (pi[j]*B[j][O[0]])\n",
    "\n",
    "alpha"
   ]
  },
  {
   "cell_type": "code",
   "execution_count": 67,
   "metadata": {},
   "outputs": [],
   "source": [
    "for i in range(1,N):\n",
    "    for j in range(N):\n",
    "        for t in range(1,T):\n",
    "            alpha[t][j] =  alpha[t-1][i]*A[i][j]*B[j][O[t]-1]"
   ]
  },
  {
   "cell_type": "code",
   "execution_count": 70,
   "metadata": {},
   "outputs": [
    {
     "data": {
      "text/plain": [
       "0.004231740000000001"
      ]
     },
     "execution_count": 70,
     "metadata": {},
     "output_type": "execute_result"
    }
   ],
   "source": [
    "sum = 0\n",
    "for i in range(N):\n",
    "    sum+= alpha[T-1][i]\n",
    "sum"
   ]
  }
 ],
 "metadata": {
  "kernelspec": {
   "display_name": "Python 3.9.13 64-bit",
   "language": "python",
   "name": "python3"
  },
  "language_info": {
   "codemirror_mode": {
    "name": "ipython",
    "version": 3
   },
   "file_extension": ".py",
   "mimetype": "text/x-python",
   "name": "python",
   "nbconvert_exporter": "python",
   "pygments_lexer": "ipython3",
   "version": "3.9.13"
  },
  "orig_nbformat": 4,
  "vscode": {
   "interpreter": {
    "hash": "8c50134b391260745b2fe6a2c1c8b3a0342d42548246a7fa04144079639e446b"
   }
  }
 },
 "nbformat": 4,
 "nbformat_minor": 2
}
