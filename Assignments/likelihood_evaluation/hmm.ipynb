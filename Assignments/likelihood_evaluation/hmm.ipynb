{
 "cells": [
  {
   "cell_type": "markdown",
   "metadata": {},
   "source": [
    "<h1>Hidden Markov Model - Forward Backward ALgorithm</h1>"
   ]
  },
  {
   "cell_type": "markdown",
   "metadata": {},
   "source": [
    "***Given  :*** \n",
    "\n",
    "**Set of States  Q = [N]**\n",
    "\n",
    "**State Transition Probability  A =[N][N]**\n",
    "\n",
    "**Set of Outputs = [M]**\n",
    "\n",
    "**Emission Matrix  B = [M][N]**\n",
    "\n",
    "**pi = [N]**"
   ]
  },
  {
   "cell_type": "code",
   "execution_count": 108,
   "metadata": {},
   "outputs": [],
   "source": [
    "A = [[0.2,0.3,0.5],[0.1,0.2,0.7],[0.4,0.25,0.35]]\n",
    "B = [[0.3,0.7],[0.2,0.8],[0.9,0.1]]\n",
    "pi = [0.5,0.3,0.2]"
   ]
  },
  {
   "cell_type": "markdown",
   "metadata": {},
   "source": [
    "## Forward Algorithm\n",
    "\n",
    "**Observed Outputs  : <U,NU,U,U>**"
   ]
  },
  {
   "cell_type": "code",
   "execution_count": 109,
   "metadata": {},
   "outputs": [],
   "source": [
    "O = [1,2,1,1]\n",
    "N  = len(A)\n",
    "T = len(O)\n",
    "alpha = [[0 for i in range(N)]for j in range(T)]\n"
   ]
  },
  {
   "cell_type": "code",
   "execution_count": 110,
   "metadata": {},
   "outputs": [
    {
     "data": {
      "text/plain": [
       "[[0.35, 0.24, 0.020000000000000004], [0, 0, 0], [0, 0, 0], [0, 0, 0]]"
      ]
     },
     "execution_count": 110,
     "metadata": {},
     "output_type": "execute_result"
    }
   ],
   "source": [
    "#Initialization \n",
    "for j in range(N): \n",
    "    alpha[0][j] = (pi[j]*B[j][O[0]])\n",
    "alpha"
   ]
  },
  {
   "cell_type": "code",
   "execution_count": 111,
   "metadata": {},
   "outputs": [
    {
     "data": {
      "text/plain": [
       "[[0.35, 0.24, 0.020000000000000004],\n",
       " [0.07139999999999999, 0.1264, 0.034999999999999996],\n",
       " [0.004284, 0.009340000000000001, 0.122787],\n",
       " [0.00025704, 0.00063064, 0.046489905]]"
      ]
     },
     "execution_count": 111,
     "metadata": {},
     "output_type": "execute_result"
    }
   ],
   "source": [
    "#DP\n",
    "for j in range(N):\n",
    "    for t in range(1,T):\n",
    "        for i in range(N):  \n",
    "            alpha[t][j] += alpha[t-1][i]*A[i][j]*B[j][O[t]-1]\n",
    "alpha"
   ]
  },
  {
   "cell_type": "code",
   "execution_count": 112,
   "metadata": {},
   "outputs": [
    {
     "data": {
      "text/plain": [
       "0.047377585"
      ]
     },
     "execution_count": 112,
     "metadata": {},
     "output_type": "execute_result"
    }
   ],
   "source": [
    "#Termination\n",
    "sum = 0\n",
    "for i in range(N):\n",
    "    sum+= alpha[T-1][i]\n",
    "    # print(sum)\n",
    "sum"
   ]
  },
  {
   "cell_type": "markdown",
   "metadata": {},
   "source": [
    "## Backward Algorithm"
   ]
  },
  {
   "cell_type": "code",
   "execution_count": 113,
   "metadata": {},
   "outputs": [],
   "source": [
    "beta = [[0 for i in range(N)]for j in range(T)]"
   ]
  },
  {
   "cell_type": "code",
   "execution_count": 114,
   "metadata": {},
   "outputs": [
    {
     "data": {
      "text/plain": [
       "[[0, 0, 0], [0, 0, 0], [0, 0, 0], [0.3, 0.2, 0.9]]"
      ]
     },
     "execution_count": 114,
     "metadata": {},
     "output_type": "execute_result"
    }
   ],
   "source": [
    "#Initialisation\n",
    "for j in range(N): \n",
    "    beta[T-1][j] = B[j][O[T-1]-1]\n",
    "beta\n"
   ]
  },
  {
   "cell_type": "code",
   "execution_count": 115,
   "metadata": {},
   "outputs": [
    {
     "data": {
      "text/plain": [
       "[[0.0014364, 0.0019220000000000007, 0.024805912500000003],\n",
       " [0.02394, 0.03608000000000001, 0.0256175],\n",
       " [0.171, 0.14, 0.43650000000000005],\n",
       " [0.3, 0.2, 0.9]]"
      ]
     },
     "execution_count": 115,
     "metadata": {},
     "output_type": "execute_result"
    }
   ],
   "source": [
    "#Recursion\n",
    "for j in range(N):\n",
    "    for t in range(T-2,-1,-1):\n",
    "        for i in range(N):\n",
    "            # print(beta[t+1][i])\n",
    "            beta[t][j]+= A[j][i]*B[j][O[t]-1]*beta[t+1][i]\n",
    "beta"
   ]
  },
  {
   "cell_type": "code",
   "execution_count": 116,
   "metadata": {},
   "outputs": [
    {
     "data": {
      "text/plain": [
       "0.006255982500000002"
      ]
     },
     "execution_count": 116,
     "metadata": {},
     "output_type": "execute_result"
    }
   ],
   "source": [
    "#Termination\n",
    "sum2 = 0\n",
    "for j in range(N):\n",
    "    sum2+=(beta[0][j]*pi[j])\n",
    "    # print(sum)\n",
    "sum2"
   ]
  },
  {
   "cell_type": "code",
   "execution_count": 117,
   "metadata": {},
   "outputs": [
    {
     "data": {
      "text/plain": [
       "0.047377585"
      ]
     },
     "execution_count": 117,
     "metadata": {},
     "output_type": "execute_result"
    }
   ],
   "source": [
    "sum"
   ]
  }
 ],
 "metadata": {
  "kernelspec": {
   "display_name": "Python 3.9.13 64-bit",
   "language": "python",
   "name": "python3"
  },
  "language_info": {
   "codemirror_mode": {
    "name": "ipython",
    "version": 3
   },
   "file_extension": ".py",
   "mimetype": "text/x-python",
   "name": "python",
   "nbconvert_exporter": "python",
   "pygments_lexer": "ipython3",
   "version": "3.9.13"
  },
  "orig_nbformat": 4,
  "vscode": {
   "interpreter": {
    "hash": "8c50134b391260745b2fe6a2c1c8b3a0342d42548246a7fa04144079639e446b"
   }
  }
 },
 "nbformat": 4,
 "nbformat_minor": 2
}
