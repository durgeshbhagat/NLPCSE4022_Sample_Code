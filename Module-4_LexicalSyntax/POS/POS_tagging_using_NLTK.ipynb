{
 "cells": [
  {
   "cell_type": "markdown",
   "id": "6422955d",
   "metadata": {},
   "source": [
    "# Demo of POS tagging using NLTK\n",
    "`href`: https://www.nltk.org/api/nltk.tag.html\n",
    "- using NLTK `pos_tag`\n",
    "- using NLTK `pos_tag` with `word_tokenize`\n",
    "- using `nltk.tag.pos_tag_sents(sentences, tagset=None, lang='eng')`"
   ]
  },
  {
   "cell_type": "code",
   "execution_count": null,
   "id": "1a479419",
   "metadata": {},
   "outputs": [],
   "source": [
    "import nltk"
   ]
  },
  {
   "cell_type": "code",
   "execution_count": 2,
   "id": "4b456818",
   "metadata": {},
   "outputs": [],
   "source": [
    "from nltk import pos_tag"
   ]
  },
  {
   "cell_type": "code",
   "execution_count": 3,
   "id": "5869e1c2",
   "metadata": {},
   "outputs": [
    {
     "data": {
      "text/plain": [
       "[('it', 'PRP'), ('is', 'VBZ'), ('a', 'DT'), ('beautiful', 'JJ'), ('day', 'NN')]"
      ]
     },
     "execution_count": 3,
     "metadata": {},
     "output_type": "execute_result"
    }
   ],
   "source": [
    "pos_tag(['it', 'is', 'a', 'beautiful', 'day'])"
   ]
  },
  {
   "cell_type": "markdown",
   "id": "78350936",
   "metadata": {},
   "source": [
    "## tagging a sentence using `word_tokenize` and `pos_tag`"
   ]
  },
  {
   "cell_type": "code",
   "execution_count": 5,
   "id": "78030cae",
   "metadata": {},
   "outputs": [],
   "source": [
    "from nltk import pos_tag, word_tokenize"
   ]
  },
  {
   "cell_type": "code",
   "execution_count": 6,
   "id": "40522548",
   "metadata": {},
   "outputs": [
    {
     "data": {
      "text/plain": [
       "[('John', 'NNP'),\n",
       " (\"'s\", 'POS'),\n",
       " ('big', 'JJ'),\n",
       " ('idea', 'NN'),\n",
       " ('is', 'VBZ'),\n",
       " (\"n't\", 'RB'),\n",
       " ('all', 'PDT'),\n",
       " ('that', 'DT'),\n",
       " ('bad', 'JJ'),\n",
       " ('.', '.')]"
      ]
     },
     "execution_count": 6,
     "metadata": {},
     "output_type": "execute_result"
    }
   ],
   "source": [
    "pos_tag(word_tokenize(\"John's big idea isn't all that bad.\"))"
   ]
  },
  {
   "cell_type": "code",
   "execution_count": 7,
   "id": "5bd06b14",
   "metadata": {},
   "outputs": [
    {
     "name": "stdout",
     "output_type": "stream",
     "text": [
      "[('John', 'NNP'), ('is', 'VBZ'), ('studying', 'VBG'), ('at', 'IN'), ('Standford', 'NNP'), ('.', '.')]\n"
     ]
    }
   ],
   "source": [
    "sent = 'John is studying at Standford.'\n",
    "print(pos_tag(word_tokenize(sent)))"
   ]
  },
  {
   "cell_type": "code",
   "execution_count": 8,
   "id": "1c01940d",
   "metadata": {},
   "outputs": [
    {
     "data": {
      "text/plain": [
       "[('4', 'CD'),\n",
       " ('th', 'JJ'),\n",
       " ('October', 'NNP'),\n",
       " ('is', 'VBZ'),\n",
       " ('an', 'DT'),\n",
       " ('Holiday', 'NN'),\n",
       " ('at', 'IN'),\n",
       " ('VIT', 'NNP'),\n",
       " ('.', '.')]"
      ]
     },
     "execution_count": 8,
     "metadata": {},
     "output_type": "execute_result"
    }
   ],
   "source": [
    "pos_tag(word_tokenize(\"4 th October is an Holiday at VIT.\"))"
   ]
  },
  {
   "cell_type": "code",
   "execution_count": 9,
   "id": "87768fe6",
   "metadata": {},
   "outputs": [
    {
     "data": {
      "text/plain": [
       "[('Please', 'NNP'),\n",
       " ('solve', 'VB'),\n",
       " ('question', 'NN'),\n",
       " ('4', 'CD'),\n",
       " ('for', 'IN'),\n",
       " ('me', 'PRP'),\n",
       " ('.', '.')]"
      ]
     },
     "execution_count": 9,
     "metadata": {},
     "output_type": "execute_result"
    }
   ],
   "source": [
    "pos_tag(word_tokenize(\"Please solve question 4 for me.\"))"
   ]
  },
  {
   "cell_type": "markdown",
   "id": "f8095aa5",
   "metadata": {},
   "source": [
    "## using nltk.tag.pos_tag_sents(sentences, tagset=None, lang='eng')"
   ]
  },
  {
   "cell_type": "code",
   "execution_count": 20,
   "id": "e3762885",
   "metadata": {},
   "outputs": [
    {
     "name": "stdout",
     "output_type": "stream",
     "text": [
      "['4 th October is an Holiday at VIT.', 'John is studying at Standford.', 'Please solve question 4 for me.']\n",
      "[[('4', 'CD'), ('th', 'JJ'), ('October', 'NNP'), ('is', 'VBZ'), ('an', 'DT'), ('Holiday', 'NN'), ('at', 'IN'), ('VIT', 'NNP'), ('.', '.')], [('John', 'NNP'), ('is', 'VBZ'), ('studying', 'VBG'), ('at', 'IN'), ('Standford', 'NNP'), ('.', '.')], [('Please', 'NNP'), ('solve', 'VB'), ('question', 'NN'), ('4', 'CD'), ('for', 'IN'), ('me', 'PRP'), ('.', '.')]]\n"
     ]
    }
   ],
   "source": [
    "from nltk import sent_tokenize, word_tokenize\n",
    "sentence = \"4 th October is an Holiday at VIT.\\\n",
    "                 John is studying at Standford.\\\n",
    "                 Please solve question 4 for me.\"\n",
    "sentence_list =  sent_tokenize(sentence)\n",
    "sentece_list_list = [ word_tokenize(sent) for sent in sentence_list]\n",
    "print(sentence_list)\n",
    "sentence_tag_list = nltk.tag.pos_tag_sents(sentece_list_list)\n",
    "print(sentence_tag_list)"
   ]
  }
 ],
 "metadata": {
  "kernelspec": {
   "display_name": "Python 3 (ipykernel)",
   "language": "python",
   "name": "python3"
  },
  "language_info": {
   "codemirror_mode": {
    "name": "ipython",
    "version": 3
   },
   "file_extension": ".py",
   "mimetype": "text/x-python",
   "name": "python",
   "nbconvert_exporter": "python",
   "pygments_lexer": "ipython3",
   "version": "3.7.13"
  }
 },
 "nbformat": 4,
 "nbformat_minor": 5
}
