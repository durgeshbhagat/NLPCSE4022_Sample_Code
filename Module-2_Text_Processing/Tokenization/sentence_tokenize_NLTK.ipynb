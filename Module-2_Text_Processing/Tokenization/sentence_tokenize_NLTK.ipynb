{
 "cells": [
  {
   "cell_type": "code",
   "execution_count": 1,
   "id": "60755b3f",
   "metadata": {},
   "outputs": [],
   "source": [
    "import nltk"
   ]
  },
  {
   "cell_type": "code",
   "execution_count": 7,
   "id": "4f8d672e",
   "metadata": {},
   "outputs": [],
   "source": [
    "#Dummy text\n",
    "text = \"Sukanya, Rajib and Naba are my good friends. \\\n",
    "        Sukanya is getting married next year. \\\n",
    "    Marriage is a big step in one’s life. \\\n",
    "    It is both exciting and frightening.  \\\n",
    "    But friendship is a sacred bond between people. \\\n",
    "    It is a special kind of love between us. \\\n",
    "    Many of you must have tried searching for a friend \\\n",
    "    but never found the right one.\""
   ]
  },
  {
   "cell_type": "code",
   "execution_count": 8,
   "id": "c2b494eb",
   "metadata": {},
   "outputs": [
    {
     "name": "stdout",
     "output_type": "stream",
     "text": [
      "0 Sukanya, Rajib and Naba are my good friends.\n",
      "1 Sukanya is getting married next year.\n",
      "2 Marriage is a big step in one’s life.\n",
      "3 It is both exciting and frightening.\n",
      "4 But friendship is a sacred bond between people.\n",
      "5 It is a special kind of love between us.\n",
      "6 Many of you must have tried searching for a friend     but never found the right one.\n"
     ]
    }
   ],
   "source": [
    "sent_list = nltk.sent_tokenize(text)\n",
    "#print(sent_list)\n",
    "for i, sent in enumerate(sent_list):\n",
    "    print(i, sent)"
   ]
  }
 ],
 "metadata": {
  "kernelspec": {
   "display_name": "Python 3 (ipykernel)",
   "language": "python",
   "name": "python3"
  },
  "language_info": {
   "codemirror_mode": {
    "name": "ipython",
    "version": 3
   },
   "file_extension": ".py",
   "mimetype": "text/x-python",
   "name": "python",
   "nbconvert_exporter": "python",
   "pygments_lexer": "ipython3",
   "version": "3.7.13"
  }
 },
 "nbformat": 4,
 "nbformat_minor": 5
}
