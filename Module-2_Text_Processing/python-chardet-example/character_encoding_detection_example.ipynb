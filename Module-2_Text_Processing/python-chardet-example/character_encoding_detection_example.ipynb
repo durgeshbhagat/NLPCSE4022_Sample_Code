{
 "cells": [
  {
   "cell_type": "markdown",
   "id": "1ba5f18f",
   "metadata": {},
   "source": [
    "# Character Encodings and Detection with Python, chardet, and cchardet\n",
    "- Ref: https://dev.to/bowmanjd/character-encodings-and-detection-with-python-chardet-and-cchardet-4hj7"
   ]
  },
  {
   "cell_type": "code",
   "execution_count": 1,
   "id": "7d30bf75",
   "metadata": {},
   "outputs": [
    {
     "name": "stdout",
     "output_type": "stream",
     "text": [
      "spam\n"
     ]
    }
   ],
   "source": [
    "print(\"\\x73\\x70\\x61\\x6d\")"
   ]
  },
  {
   "cell_type": "code",
   "execution_count": 2,
   "id": "85ab8ce6",
   "metadata": {},
   "outputs": [
    {
     "data": {
      "text/plain": [
       "'spam'"
      ]
     },
     "execution_count": 2,
     "metadata": {},
     "output_type": "execute_result"
    }
   ],
   "source": [
    "b\"\\x73\\x70\\x61\\x6d\".decode(\"ascii\")"
   ]
  },
  {
   "cell_type": "code",
   "execution_count": 32,
   "id": "403cd178",
   "metadata": {},
   "outputs": [
    {
     "ename": "UnicodeDecodeError",
     "evalue": "'ascii' codec can't decode byte 0xe9 in position 3: ordinal not in range(128)",
     "output_type": "error",
     "traceback": [
      "\u001b[1;31m---------------------------------------------------------------------------\u001b[0m",
      "\u001b[1;31mUnicodeDecodeError\u001b[0m                        Traceback (most recent call last)",
      "\u001b[1;32m~\\AppData\\Local\\Temp\\ipykernel_20712\\1413863956.py\u001b[0m in \u001b[0;36m<module>\u001b[1;34m\u001b[0m\n\u001b[1;32m----> 1\u001b[1;33m \u001b[1;34mb\"\\x4a\\x6f\\x73\\xe9\"\u001b[0m\u001b[1;33m.\u001b[0m\u001b[0mdecode\u001b[0m\u001b[1;33m(\u001b[0m\u001b[1;34m\"ascii\"\u001b[0m\u001b[1;33m)\u001b[0m\u001b[1;33m\u001b[0m\u001b[1;33m\u001b[0m\u001b[0m\n\u001b[0m",
      "\u001b[1;31mUnicodeDecodeError\u001b[0m: 'ascii' codec can't decode byte 0xe9 in position 3: ordinal not in range(128)"
     ]
    }
   ],
   "source": [
    "b\"\\x4a\\x6f\\x73\\xe9\".decode(\"ascii\")"
   ]
  },
  {
   "cell_type": "code",
   "execution_count": 33,
   "id": "a2066a3e",
   "metadata": {},
   "outputs": [
    {
     "ename": "UnicodeDecodeError",
     "evalue": "'utf-8' codec can't decode byte 0xe9 in position 3: unexpected end of data",
     "output_type": "error",
     "traceback": [
      "\u001b[1;31m---------------------------------------------------------------------------\u001b[0m",
      "\u001b[1;31mUnicodeDecodeError\u001b[0m                        Traceback (most recent call last)",
      "\u001b[1;32m~\\AppData\\Local\\Temp\\ipykernel_20712\\23965474.py\u001b[0m in \u001b[0;36m<module>\u001b[1;34m\u001b[0m\n\u001b[1;32m----> 1\u001b[1;33m \u001b[1;34mb\"\\x4a\\x6f\\x73\\xe9\"\u001b[0m\u001b[1;33m.\u001b[0m\u001b[0mdecode\u001b[0m\u001b[1;33m(\u001b[0m\u001b[1;34m\"utf-8\"\u001b[0m\u001b[1;33m)\u001b[0m\u001b[1;33m\u001b[0m\u001b[1;33m\u001b[0m\u001b[0m\n\u001b[0m",
      "\u001b[1;31mUnicodeDecodeError\u001b[0m: 'utf-8' codec can't decode byte 0xe9 in position 3: unexpected end of data"
     ]
    }
   ],
   "source": [
    "b\"\\x4a\\x6f\\x73\\xe9\".decode(\"utf-8\")"
   ]
  },
  {
   "cell_type": "code",
   "execution_count": 5,
   "id": "99d6b722",
   "metadata": {},
   "outputs": [
    {
     "data": {
      "text/plain": [
       "'José'"
      ]
     },
     "execution_count": 5,
     "metadata": {},
     "output_type": "execute_result"
    }
   ],
   "source": [
    "b\"\\x4a\\x6f\\x73\\xe9\".decode(\"iso-8859-1\")"
   ]
  },
  {
   "cell_type": "markdown",
   "id": "1e64ef1d",
   "metadata": {},
   "source": [
    "## Character Encoding detection using chardet"
   ]
  },
  {
   "cell_type": "markdown",
   "id": "1c71db0e",
   "metadata": {},
   "source": [
    "### Method-1 using chardet.detect"
   ]
  },
  {
   "cell_type": "code",
   "execution_count": 10,
   "id": "57764ea1",
   "metadata": {},
   "outputs": [
    {
     "name": "stdout",
     "output_type": "stream",
     "text": [
      "{'encoding': 'ISO-8859-1', 'confidence': 0.73, 'language': ''}\n",
      "José\n"
     ]
    }
   ],
   "source": [
    "import chardet\n",
    "name = b\"\\x4a\\x6f\\x73\\xe9\"\n",
    "detection = chardet.detect(name)\n",
    "print(detection)\n",
    "encoding_name = detection[\"encoding\"]\n",
    "print(name.decode(encoding_name))"
   ]
  },
  {
   "cell_type": "markdown",
   "id": "e3d3ddf8",
   "metadata": {},
   "source": [
    "### Method-2 detecting character encoding from file"
   ]
  },
  {
   "cell_type": "code",
   "execution_count": 31,
   "id": "05d0add3",
   "metadata": {},
   "outputs": [
    {
     "name": "stdout",
     "output_type": "stream",
     "text": [
      " text= Last name,First name\n",
      "Eldjárn,Kristján\n",
      "González,José\n",
      "Hernández,Fátima\n",
      "Kazanci,Miraç\n",
      "Rivera,Tomás\n",
      "Sánchez,Aarón\n",
      "Vargas,Jesús\n",
      "Öksüz,Yasin\n",
      " \n",
      " encoding= utf-8\n",
      " confidence= 0.99, time taken : 0.002992868423461914 sec\n"
     ]
    }
   ],
   "source": [
    "from pathlib import Path\n",
    "import chardet\n",
    "import sys\n",
    "import time\n",
    "t1 = time.time()\n",
    "# We must read as binary (bytes) because we don't yet know encoding\n",
    "filename = 'sample-utf8.csv' # sample-latin1.csv' #\n",
    "filepath = Path(filename)\n",
    "blob = filepath.read_bytes()\n",
    "\n",
    "detection = chardet.detect(blob)\n",
    "encoding = detection[\"encoding\"]\n",
    "confidence = detection[\"confidence\"]\n",
    "text = blob.decode(encoding)\n",
    "t2 = time.time()\n",
    "print(' text= {} \\n encoding= {}\\n confidence= {}, time taken : {} sec'.format(text, encoding, confidence, (t2-t1)))"
   ]
  },
  {
   "cell_type": "markdown",
   "id": "99c3b7bd",
   "metadata": {},
   "source": [
    "## Character Encoding detection using cchardet\n",
    "-- Faster than chardet"
   ]
  },
  {
   "cell_type": "code",
   "execution_count": 30,
   "id": "9b6efaea",
   "metadata": {},
   "outputs": [
    {
     "name": "stdout",
     "output_type": "stream",
     "text": [
      " text= Last name,First name\n",
      "Eldjárn,Kristján\n",
      "González,José\n",
      "Hernández,Fátima\n",
      "Kazanci,Miraç\n",
      "Rivera,Tomás\n",
      "Sánchez,Aarón\n",
      "Vargas,Jesús\n",
      "Öksüz,Yasin\n",
      " \n",
      " encoding= UTF-8\n",
      " confidence= 0.9900000095367432, time taken : 0.00299072265625 sec\n"
     ]
    }
   ],
   "source": [
    "import cchardet\n",
    "from pathlib import Path\n",
    "import sys\n",
    "import time\n",
    "# We must read as binary (bytes) because we don't yet know encoding\n",
    "t1 = time.time()\n",
    "filename = 'sample-utf8.csv' # sample-latin1.csv' #\n",
    "filepath = Path(filename)\n",
    "blob = filepath.read_bytes()\n",
    "\n",
    "detection = cchardet.detect(blob)\n",
    "encoding = detection[\"encoding\"]\n",
    "confidence = detection[\"confidence\"]\n",
    "text = blob.decode(encoding)\n",
    "t2 = time.time()\n",
    "print(' text= {} \\n encoding= {}\\n confidence= {}, time taken : {} sec'.format(text, encoding, confidence, (t2-t1)))"
   ]
  },
  {
   "cell_type": "code",
   "execution_count": null,
   "id": "6fd2b4a9",
   "metadata": {},
   "outputs": [],
   "source": []
  }
 ],
 "metadata": {
  "kernelspec": {
   "display_name": "Python 3 (ipykernel)",
   "language": "python",
   "name": "python3"
  },
  "language_info": {
   "codemirror_mode": {
    "name": "ipython",
    "version": 3
   },
   "file_extension": ".py",
   "mimetype": "text/x-python",
   "name": "python",
   "nbconvert_exporter": "python",
   "pygments_lexer": "ipython3",
   "version": "3.7.13"
  }
 },
 "nbformat": 4,
 "nbformat_minor": 5
}
